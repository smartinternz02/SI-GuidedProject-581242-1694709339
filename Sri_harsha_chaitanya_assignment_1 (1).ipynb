{
  "nbformat": 4,
  "nbformat_minor": 0,
  "metadata": {
    "colab": {
      "provenance": []
    },
    "kernelspec": {
      "name": "python3",
      "display_name": "Python 3"
    },
    "language_info": {
      "name": "python"
    }
  },
  "cells": [
    {
      "cell_type": "markdown",
      "source": [
        "Import NumPy as np"
      ],
      "metadata": {
        "id": "hJc5GTt9YcWj"
      }
    },
    {
      "cell_type": "code",
      "source": [],
      "metadata": {
        "id": "s0OMBvwamaZb"
      },
      "execution_count": null,
      "outputs": []
    },
    {
      "cell_type": "code",
      "source": [
        "import numpy as np\n"
      ],
      "metadata": {
        "id": "9eFvfFzQYgC5"
      },
      "execution_count": null,
      "outputs": []
    },
    {
      "cell_type": "markdown",
      "source": [
        "Create an array of 10 zeros\n"
      ],
      "metadata": {
        "id": "uoxkDowmY5YO"
      }
    },
    {
      "cell_type": "code",
      "source": [
        "z1 = np.zeros(10)\n",
        "z1"
      ],
      "metadata": {
        "colab": {
          "base_uri": "https://localhost:8080/"
        },
        "id": "G9bE8EBUZEUB",
        "outputId": "bcb3dc98-3a0f-4574-91ec-60994a26db65"
      },
      "execution_count": null,
      "outputs": [
        {
          "output_type": "execute_result",
          "data": {
            "text/plain": [
              "array([0., 0., 0., 0., 0., 0., 0., 0., 0., 0.])"
            ]
          },
          "metadata": {},
          "execution_count": 5
        }
      ]
    },
    {
      "cell_type": "markdown",
      "source": [
        "Create an array of 10 ones"
      ],
      "metadata": {
        "id": "tM58Y1EPZR32"
      }
    },
    {
      "cell_type": "code",
      "source": [
        "z=np.ones(10)\n",
        "z"
      ],
      "metadata": {
        "colab": {
          "base_uri": "https://localhost:8080/"
        },
        "id": "Hfn62IeiZVxK",
        "outputId": "29473ecd-44f6-4a6f-fae8-84296480f249"
      },
      "execution_count": null,
      "outputs": [
        {
          "output_type": "execute_result",
          "data": {
            "text/plain": [
              "array([1., 1., 1., 1., 1., 1., 1., 1., 1., 1.])"
            ]
          },
          "metadata": {},
          "execution_count": 6
        }
      ]
    },
    {
      "cell_type": "markdown",
      "source": [
        "Create an array of 10 fives"
      ],
      "metadata": {
        "id": "19ULbDMUZcAf"
      }
    },
    {
      "cell_type": "code",
      "source": [
        "z3=np.full(10,5.0)\n",
        "z3"
      ],
      "metadata": {
        "colab": {
          "base_uri": "https://localhost:8080/"
        },
        "id": "quhRL6DLZfh9",
        "outputId": "a4c09210-1b30-4e7a-9142-dcb29533409e"
      },
      "execution_count": null,
      "outputs": [
        {
          "output_type": "execute_result",
          "data": {
            "text/plain": [
              "array([5., 5., 5., 5., 5., 5., 5., 5., 5., 5.])"
            ]
          },
          "metadata": {},
          "execution_count": 7
        }
      ]
    },
    {
      "cell_type": "markdown",
      "source": [
        "Create an array of the integers from 10 to 50"
      ],
      "metadata": {
        "id": "Xaw6gqC4ZmSi"
      }
    },
    {
      "cell_type": "code",
      "source": [
        "a=np.arange(10,51)\n",
        "a\n"
      ],
      "metadata": {
        "colab": {
          "base_uri": "https://localhost:8080/"
        },
        "id": "VvvDjn4JZo05",
        "outputId": "94eefc9c-f3ec-427b-e5ea-7a1d9f1a4473"
      },
      "execution_count": null,
      "outputs": [
        {
          "output_type": "execute_result",
          "data": {
            "text/plain": [
              "array([10, 11, 12, 13, 14, 15, 16, 17, 18, 19, 20, 21, 22, 23, 24, 25, 26,\n",
              "       27, 28, 29, 30, 31, 32, 33, 34, 35, 36, 37, 38, 39, 40, 41, 42, 43,\n",
              "       44, 45, 46, 47, 48, 49, 50])"
            ]
          },
          "metadata": {},
          "execution_count": 8
        }
      ]
    },
    {
      "cell_type": "markdown",
      "source": [
        "Create an array of all the even integers from 10 to 50\n"
      ],
      "metadata": {
        "id": "98hoHkUgZwId"
      }
    },
    {
      "cell_type": "code",
      "source": [
        "'''\n",
        "el=[]\n",
        "for i in a:\n",
        " if i%2==0:\n",
        " el.append(i)\n",
        "el_arr=np.array(el)\n",
        "el_arr\n",
        "'''\n",
        "ev_arr=np.arange(10,51,2)\n",
        "ev_arr\n"
      ],
      "metadata": {
        "colab": {
          "base_uri": "https://localhost:8080/"
        },
        "id": "lgcIZQflZzis",
        "outputId": "8f9cc4f8-c03e-4e7b-9f2c-0f1f683329ec"
      },
      "execution_count": null,
      "outputs": [
        {
          "output_type": "execute_result",
          "data": {
            "text/plain": [
              "array([10, 12, 14, 16, 18, 20, 22, 24, 26, 28, 30, 32, 34, 36, 38, 40, 42,\n",
              "       44, 46, 48, 50])"
            ]
          },
          "metadata": {},
          "execution_count": 9
        }
      ]
    },
    {
      "cell_type": "markdown",
      "source": [
        "Create a 3x3 matrix with values ranging from 0 to 8"
      ],
      "metadata": {
        "id": "ZaH06_BHZ5rR"
      }
    },
    {
      "cell_type": "code",
      "source": [
        "a1=np.array([[0,1,2,],[3,4,5],[6,7,8]])\n",
        "a1\n"
      ],
      "metadata": {
        "colab": {
          "base_uri": "https://localhost:8080/"
        },
        "id": "TlKYAFhbZ718",
        "outputId": "04e803a7-6139-4d04-fce2-98df6e95693a"
      },
      "execution_count": null,
      "outputs": [
        {
          "output_type": "execute_result",
          "data": {
            "text/plain": [
              "array([[0, 1, 2],\n",
              "       [3, 4, 5],\n",
              "       [6, 7, 8]])"
            ]
          },
          "metadata": {},
          "execution_count": 10
        }
      ]
    },
    {
      "cell_type": "markdown",
      "source": [
        "Create a 3x3 identity matrix\n"
      ],
      "metadata": {
        "id": "KcV6afUIZ_qJ"
      }
    },
    {
      "cell_type": "code",
      "source": [
        "a2=np.eye(3)\n",
        "a2\n"
      ],
      "metadata": {
        "colab": {
          "base_uri": "https://localhost:8080/"
        },
        "id": "vTeTryuNaCBc",
        "outputId": "a47d1749-6960-4e51-fc10-2bfaa2080a5f"
      },
      "execution_count": null,
      "outputs": [
        {
          "output_type": "execute_result",
          "data": {
            "text/plain": [
              "array([[1., 0., 0.],\n",
              "       [0., 1., 0.],\n",
              "       [0., 0., 1.]])"
            ]
          },
          "metadata": {},
          "execution_count": 11
        }
      ]
    },
    {
      "cell_type": "markdown",
      "source": [
        "Use NumPy to generate a random number between 0 and 1"
      ],
      "metadata": {
        "id": "2lVOEIT_aGDz"
      }
    },
    {
      "cell_type": "code",
      "source": [
        "ran_num=np.random.rand()\n",
        "ran_num\n"
      ],
      "metadata": {
        "colab": {
          "base_uri": "https://localhost:8080/"
        },
        "id": "s2DO8WtKaIps",
        "outputId": "e3a40f72-e63f-407f-80db-3c6031c1570d"
      },
      "execution_count": null,
      "outputs": [
        {
          "output_type": "execute_result",
          "data": {
            "text/plain": [
              "0.15883819408741873"
            ]
          },
          "metadata": {},
          "execution_count": 12
        }
      ]
    },
    {
      "cell_type": "markdown",
      "source": [
        "Use NumPy to generate an array of 25 random numbers sampled from a standard normal\n",
        "distribution"
      ],
      "metadata": {
        "id": "HuSafNQyaL6G"
      }
    },
    {
      "cell_type": "code",
      "source": [
        "a=np.random.randn(25)\n",
        "a\n"
      ],
      "metadata": {
        "colab": {
          "base_uri": "https://localhost:8080/"
        },
        "id": "BDzeaal9aOoJ",
        "outputId": "93c26ae6-6b66-44ba-dde2-1d115ddfc2c2"
      },
      "execution_count": null,
      "outputs": [
        {
          "output_type": "execute_result",
          "data": {
            "text/plain": [
              "array([ 0.74024134,  0.49758706, -1.16746024, -1.2219648 , -1.58707923,\n",
              "       -0.06716011, -0.79512172, -0.08402866, -1.84874664,  0.14009778,\n",
              "       -0.55859462, -0.81617364, -0.16301148,  1.8609475 , -0.07859991,\n",
              "        1.98994338,  0.90586002, -0.57638616,  1.70973512,  1.69545754,\n",
              "       -0.46754601,  0.72163272, -0.8852864 , -2.164772  ,  1.21315364])"
            ]
          },
          "metadata": {},
          "execution_count": 13
        }
      ]
    },
    {
      "cell_type": "markdown",
      "source": [
        "Create the following matrix:\n"
      ],
      "metadata": {
        "id": "bk0EZG98aSyO"
      }
    },
    {
      "cell_type": "code",
      "source": [
        "ar=np.arange(0.01,1.0,0.01)\n",
        "ar\n"
      ],
      "metadata": {
        "colab": {
          "base_uri": "https://localhost:8080/"
        },
        "id": "k9VWOK_raVaE",
        "outputId": "07c6294e-2093-4fb1-b514-43a8336dd45b"
      },
      "execution_count": null,
      "outputs": [
        {
          "output_type": "execute_result",
          "data": {
            "text/plain": [
              "array([0.01, 0.02, 0.03, 0.04, 0.05, 0.06, 0.07, 0.08, 0.09, 0.1 , 0.11,\n",
              "       0.12, 0.13, 0.14, 0.15, 0.16, 0.17, 0.18, 0.19, 0.2 , 0.21, 0.22,\n",
              "       0.23, 0.24, 0.25, 0.26, 0.27, 0.28, 0.29, 0.3 , 0.31, 0.32, 0.33,\n",
              "       0.34, 0.35, 0.36, 0.37, 0.38, 0.39, 0.4 , 0.41, 0.42, 0.43, 0.44,\n",
              "       0.45, 0.46, 0.47, 0.48, 0.49, 0.5 , 0.51, 0.52, 0.53, 0.54, 0.55,\n",
              "       0.56, 0.57, 0.58, 0.59, 0.6 , 0.61, 0.62, 0.63, 0.64, 0.65, 0.66,\n",
              "       0.67, 0.68, 0.69, 0.7 , 0.71, 0.72, 0.73, 0.74, 0.75, 0.76, 0.77,\n",
              "       0.78, 0.79, 0.8 , 0.81, 0.82, 0.83, 0.84, 0.85, 0.86, 0.87, 0.88,\n",
              "       0.89, 0.9 , 0.91, 0.92, 0.93, 0.94, 0.95, 0.96, 0.97, 0.98, 0.99])"
            ]
          },
          "metadata": {},
          "execution_count": 14
        }
      ]
    },
    {
      "cell_type": "markdown",
      "source": [
        "Create an array of 20 linearly spaced points between 0 and 1:"
      ],
      "metadata": {
        "id": "yC2-6hYvaY4h"
      }
    },
    {
      "cell_type": "code",
      "source": [
        "la=np.linspace(0,1,20)\n",
        "la\n"
      ],
      "metadata": {
        "colab": {
          "base_uri": "https://localhost:8080/"
        },
        "id": "crSZEWhBaas-",
        "outputId": "8be8e058-0fb0-494d-c3e9-19689711594a"
      },
      "execution_count": null,
      "outputs": [
        {
          "output_type": "execute_result",
          "data": {
            "text/plain": [
              "array([0.        , 0.05263158, 0.10526316, 0.15789474, 0.21052632,\n",
              "       0.26315789, 0.31578947, 0.36842105, 0.42105263, 0.47368421,\n",
              "       0.52631579, 0.57894737, 0.63157895, 0.68421053, 0.73684211,\n",
              "       0.78947368, 0.84210526, 0.89473684, 0.94736842, 1.        ])"
            ]
          },
          "metadata": {},
          "execution_count": 15
        }
      ]
    },
    {
      "cell_type": "markdown",
      "source": [
        "Numpy Indexing and Selection"
      ],
      "metadata": {
        "id": "4axf--7wagvM"
      }
    },
    {
      "cell_type": "code",
      "source": [
        "mat = np.arange(1,26).reshape(5,5)\n",
        "mat\n"
      ],
      "metadata": {
        "colab": {
          "base_uri": "https://localhost:8080/"
        },
        "id": "ViLzbnraao45",
        "outputId": "0bed3591-0457-4318-cfc9-0be074d0ec06"
      },
      "execution_count": null,
      "outputs": [
        {
          "output_type": "execute_result",
          "data": {
            "text/plain": [
              "array([[ 1,  2,  3,  4,  5],\n",
              "       [ 6,  7,  8,  9, 10],\n",
              "       [11, 12, 13, 14, 15],\n",
              "       [16, 17, 18, 19, 20],\n",
              "       [21, 22, 23, 24, 25]])"
            ]
          },
          "metadata": {},
          "execution_count": 16
        }
      ]
    },
    {
      "cell_type": "code",
      "source": [
        "mat[2:6,1:6]\n"
      ],
      "metadata": {
        "colab": {
          "base_uri": "https://localhost:8080/"
        },
        "id": "rtSk1VHXa1Za",
        "outputId": "9a106cda-eae2-4928-a7f3-2693284a2297"
      },
      "execution_count": null,
      "outputs": [
        {
          "output_type": "execute_result",
          "data": {
            "text/plain": [
              "array([[12, 13, 14, 15],\n",
              "       [17, 18, 19, 20],\n",
              "       [22, 23, 24, 25]])"
            ]
          },
          "metadata": {},
          "execution_count": 17
        }
      ]
    },
    {
      "cell_type": "code",
      "source": [
        "mat[3:4,4:6]"
      ],
      "metadata": {
        "colab": {
          "base_uri": "https://localhost:8080/"
        },
        "id": "VcQ6WM-Na7PV",
        "outputId": "004ad2c0-4fd8-457e-d88d-40b475318906"
      },
      "execution_count": null,
      "outputs": [
        {
          "output_type": "execute_result",
          "data": {
            "text/plain": [
              "array([[20]])"
            ]
          },
          "metadata": {},
          "execution_count": 18
        }
      ]
    },
    {
      "cell_type": "code",
      "source": [
        "mat[0:3,1:2]"
      ],
      "metadata": {
        "colab": {
          "base_uri": "https://localhost:8080/"
        },
        "id": "ThkuSC1_a_RG",
        "outputId": "70976864-ecb9-46f6-dd99-9bff5bb705d7"
      },
      "execution_count": null,
      "outputs": [
        {
          "output_type": "execute_result",
          "data": {
            "text/plain": [
              "array([[ 2],\n",
              "       [ 7],\n",
              "       [12]])"
            ]
          },
          "metadata": {},
          "execution_count": 19
        }
      ]
    },
    {
      "cell_type": "code",
      "source": [
        "mat[4:6,0:6]\n"
      ],
      "metadata": {
        "colab": {
          "base_uri": "https://localhost:8080/"
        },
        "id": "UesE98dCbCkv",
        "outputId": "95d2a907-05ac-42d6-9202-f978ffae4b9d"
      },
      "execution_count": null,
      "outputs": [
        {
          "output_type": "execute_result",
          "data": {
            "text/plain": [
              "array([[21, 22, 23, 24, 25]])"
            ]
          },
          "metadata": {},
          "execution_count": 20
        }
      ]
    },
    {
      "cell_type": "code",
      "source": [
        "mat[3:6,0:6]\n"
      ],
      "metadata": {
        "colab": {
          "base_uri": "https://localhost:8080/"
        },
        "id": "mVE0V9pubC9d",
        "outputId": "ef84192c-268b-430b-9978-706636cb522d"
      },
      "execution_count": null,
      "outputs": [
        {
          "output_type": "execute_result",
          "data": {
            "text/plain": [
              "array([[16, 17, 18, 19, 20],\n",
              "       [21, 22, 23, 24, 25]])"
            ]
          },
          "metadata": {},
          "execution_count": 21
        }
      ]
    },
    {
      "cell_type": "markdown",
      "source": [
        "Now do the following\n"
      ],
      "metadata": {
        "id": "8CFKBIaZbKUJ"
      }
    },
    {
      "cell_type": "code",
      "source": [
        "sum1=np.sum(mat)\n",
        "sum1\n"
      ],
      "metadata": {
        "colab": {
          "base_uri": "https://localhost:8080/"
        },
        "id": "Jo2S_ir5bMrP",
        "outputId": "4135e15e-144d-4636-8cc6-420b88aa3833"
      },
      "execution_count": null,
      "outputs": [
        {
          "output_type": "execute_result",
          "data": {
            "text/plain": [
              "325"
            ]
          },
          "metadata": {},
          "execution_count": 22
        }
      ]
    },
    {
      "cell_type": "markdown",
      "source": [
        "Get the standard deviation of the values in mat"
      ],
      "metadata": {
        "id": "qYvQsf_MbRsV"
      }
    },
    {
      "cell_type": "code",
      "source": [
        "sd=np.std(mat)\n",
        "sd\n"
      ],
      "metadata": {
        "colab": {
          "base_uri": "https://localhost:8080/"
        },
        "id": "NgX84ZJhbSX6",
        "outputId": "584c29c2-f8d0-4042-87d0-b91b23f20c96"
      },
      "execution_count": null,
      "outputs": [
        {
          "output_type": "execute_result",
          "data": {
            "text/plain": [
              "7.211102550927978"
            ]
          },
          "metadata": {},
          "execution_count": 23
        }
      ]
    },
    {
      "cell_type": "markdown",
      "source": [
        "Get the sum of all the columns in mat"
      ],
      "metadata": {
        "id": "HITZA1S3bU46"
      }
    },
    {
      "cell_type": "code",
      "source": [
        "col_sum=np.sum(mat,axis=0)\n",
        "col_sum"
      ],
      "metadata": {
        "colab": {
          "base_uri": "https://localhost:8080/"
        },
        "id": "PIHSSBfkbX2y",
        "outputId": "ba415898-cc95-4788-ef20-e3d44fb704e9"
      },
      "execution_count": null,
      "outputs": [
        {
          "output_type": "execute_result",
          "data": {
            "text/plain": [
              "array([55, 60, 65, 70, 75])"
            ]
          },
          "metadata": {},
          "execution_count": 24
        }
      ]
    }
  ]
}